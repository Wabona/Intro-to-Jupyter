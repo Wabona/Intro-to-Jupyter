{
 "cells": [
  {
   "cell_type": "markdown",
   "metadata": {},
   "source": [
    "# Skills Lab 1\r\n",
    "\r\n",
    "Big Ideas in Computing and Information\r\n"
   ]
  },
  {
   "cell_type": "markdown",
   "metadata": {},
   "source": [
    "👋Hello! Happy new semester! \n",
    "\n",
    "![new year](https://media.giphy.com/media/27IZ6zeS8dOqoQo2xY/giphy.gif)\n",
    "\n",
    "Welcome to the Big Ideas in Computing and Information lab. This document should familiarize you with JupyterHub and creating and editing Jupyter notebooks, something that you're going to be doing quite a lot of over the course of this semester.\n",
    "\n"
   ]
  },
  {
   "cell_type": "markdown",
   "metadata": {},
   "source": [
    "## Getting familiar with JupyterHub\n",
    "\n",
    "Look to your left. You should see a list of files: this notebook, a `README.md`, and maybe a few other files inside a `week2-lab` folder. That's the `git` repository that you just cloned; if that doesn't quite make sense to you, hang on a few weeks. We'll get there.\n",
    "\n",
    "The following exercises are your lab for this week. In future, you'll usually have a pre-made notebook where you'll fill in your answers in code or Markdown cells. For this week, follow these instructions to create your own notebook!"
   ]
  },
  {
   "cell_type": "markdown",
   "metadata": {},
   "source": [
    "---\r\n",
    "\r\n",
    "**Exercise 1: create a new notebook**\r\n",
    "\r\n",
    "1. Double-click on your new \"exercises\" folder to enter it.\r\n",
    "2. Go to File → New and select \"Notebook\". This creates a new Jupyter Notebook file. (Alternatively, you can click the \"+\" icon to open a new Launcher, and create your Python 3 Notebook from there.)\r\n",
    "3. Select the \"Python 3\" kernel.\r\n",
    "4. Look in the file browser, right-click on \"Untitled.ipynb\" and click \"rename.\" Change the\r\n",
    "name of the file to \"`<your Pitt username>-lab-1.ipynb`\". (`<your Pitt username>` should be your, uh, Pitt username.)\r\n",
    "5. Change the first cell in your new notebook to the Markdown cell by clicking on the menu\r\n",
    "that says \"Code\" and selecting \"Markdown\".\r\n",
    "6. Try writing some Markdown and executing it with Shift-Enter.\r\n",
    "\r\n",
    "---\r\n"
   ]
  },
  {
   "cell_type": "markdown",
   "metadata": {},
   "source": [
    "## Double click\n",
    "\n",
    "**Double click** on this cell. You can edit any cell in a notebook by clicking on it, and then hit Shift-Enter to evaluate the cell."
   ]
  },
  {
   "cell_type": "markdown",
   "metadata": {},
   "source": [
    "## Side by side\n",
    "\n",
    "You can view two notebooks at once (for example, this notebook and your new lab notebook) by clicking and dragging their tab within JupyterLab. Those tabs are directly above the notebook. That can be helpful for reading and following instructions without a lot of tab-switching."
   ]
  },
  {
   "cell_type": "markdown",
   "metadata": {},
   "source": [
    "---\n",
    "\n",
    "**Exercise 2: Markdown**\n",
    "\n",
    "Just for reference, here's that [Markdown cheatsheet](https://github.com/adam-p/markdown-here/wiki/Markdown-Cheatsheet) again.\n",
    "\n",
    "1. In the top cell, create a level 1 header and give your notebook a title. You can give it any\n",
    "title you want.\n",
    "2. Below the title, create a list with two elements: your name, and today's date.\n",
    "3. Create a new Markdown cell and put the following text at the top:    \n",
    "`## Markdown Exercises`\n",
    "4. Write a paragraph of text that answers the following questions. Include some **bold** and *italic* text.\n",
    "    * Why are you or are you not interested in learning to code?\n",
    "    * What do you hope being able to program will enable you to do?\n",
    "    * Make a Markdown list of 5 things you'd like to learn from this course, from SCI, or\n",
    "from Pitt.\n",
    "\n",
    "During your writing, feel free to use other Markdown styles or test out anything fancy, like writing HTML!"
   ]
  },
  {
   "cell_type": "markdown",
   "metadata": {},
   "source": [
    "---\n",
    "\n",
    "**Exercise 3: Just a bit more of Markdown**\n",
    "\n",
    "1. Create a new Markdown cell.\n",
    "2. Now visit https://giphy.com/ and find an animated gif that represents how you feel at this\n",
    "moment. Click on the GIF, then click \"Copy Link\" and get the \"GIF Link\" from the page.\n",
    "3. Use Markdown image notation to insert the GIF you found into the Markdown cell. (*Hint: it's a lot like link notation but more excited.*)\n",
    "4. Create one more Markdown cell and insert the following text: `---`\n",
    "\n",
    "---"
   ]
  },
  {
   "cell_type": "code",
   "execution_count": null,
   "metadata": {},
   "outputs": [],
   "source": [
    "print(\"Hi! I'm a code cell. Try changing me.\")\n",
    "y = 12"
   ]
  },
  {
   "cell_type": "code",
   "execution_count": null,
   "metadata": {},
   "outputs": [],
   "source": [
    "print(\"this is more code\")\n",
    "print( y )"
   ]
  },
  {
   "cell_type": "markdown",
   "metadata": {},
   "source": [
    "---\n",
    "\n",
    "**Exercise 4: executing code in the Jupyter Notebook**\n",
    "\n",
    "1. Create a new Markdown cell with just the following text:    \n",
    "`## Jupyter Notebook Exercises`\n",
    "2. Create a new code cell, then copy the following Python code into the cell and execute it:    \n",
    "`name = input(prompt=\"What is your name? \")`    \n",
    "`print(\"Hello\", name, \"!\")`\n",
    "3. Create a Markdown cell underneath the code cell you just executed and describe in your\n",
    "own words what happened when you ran that code.\n",
    "4. Create a new code cell and copy that same code into the new code cell. Try modifying\n",
    "the code and executing it to see what happens. (Don't worry about making any mistakes, we're just playing around.)\n",
    "5. Create a Markdown cell underneath the code cell you just executed and describe what\n",
    "happened. \n",
    "    * What did you try and modify? \n",
    "    * Did you get an error or did it run successfully?"
   ]
  },
  {
   "cell_type": "markdown",
   "metadata": {},
   "source": [
    "---\n",
    "\n",
    "**Exercise 5: visualizing data in the Notebook**\n",
    "\n",
    "1. Create a new code cell and copy the following code into the cell and execute it. (The code may take a bit of time to execute, don't worry.)    \n",
    "\n",
    "```python\n",
    "%matplotlib inline\n",
    "import pandas as pd\n",
    "# Load the PGH 311 Complaint data\n",
    "data_url = \\\n",
    "\"https://data.wprdc.org/datastore/dump/76fda9d0-69be-4dd5-8108-0de7907fc5a4\"\n",
    "complaints = pd.read_csv(data_url, parse_dates=True, index_col=\"CREATED_ON\")\n",
    "# Produce a graph that shows the number of complaints per month\n",
    "complaints.resample(\"M\").size().plot();\n",
    "```\n",
    "\n",
    "2. Create a Markdown cell underneath the code cell you just executed and describe what\n",
    "you see. What do you think the data in this chart tell us?\n",
    "3. Create a new Markdown cell, visit https://giphy.com/, and insert an gif into the Notebook\n",
    "that describes how you feel."
   ]
  },
  {
   "cell_type": "markdown",
   "metadata": {},
   "source": [
    "---\r\n",
    "\r\n",
    "**Exercise 6: uploading your work**\r\n",
    "\r\n",
    "1. Make sure your exercise notebook has the correct name: `<your Pitt username>-lab-1.ipynb`. (You won't get credit for your hard work otherwise.)\r\n",
    "2. Right-click on that notebook and click ↓Download. Download the file to your computer. (This varies depending on your device, but save it somewhere easily accessible.)\r\n",
    "3. Open [Canvas](https://canvas.pitt.edu) and log in.\r\n",
    "4. Go to our Module for this week, hit submit, and upload your lab from your computer. \r\n",
    "\r\n",
    "---\r\n",
    "\r\n",
    "Good job, and see you next week."
   ]
  },
  {
   "cell_type": "markdown",
   "metadata": {},
   "source": [
    "![jeff](https://media.giphy.com/media/l0Ex8rGSELsb7SEz6/giphy.gif)"
   ]
  }
 ],
 "metadata": {
  "kernelspec": {
   "display_name": "Python 3",
   "language": "python",
   "name": "python3"
  },
  "language_info": {
   "codemirror_mode": {
    "name": "ipython",
    "version": 3
   },
   "file_extension": ".py",
   "mimetype": "text/x-python",
   "name": "python",
   "nbconvert_exporter": "python",
   "pygments_lexer": "ipython3",
   "version": "3.8.1-final"
  }
 },
 "nbformat": 4,
 "nbformat_minor": 4
}